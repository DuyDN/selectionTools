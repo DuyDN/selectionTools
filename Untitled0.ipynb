{
 "metadata": {
  "name": "",
  "signature": "sha256:ea32dd15cccca57ead40f09caaa453ec6e904338977a6379dc9a6c4dbfe49cfd"
 },
 "nbformat": 3,
 "nbformat_minor": 0,
 "worksheets": [
  {
   "cells": [
    {
     "cell_type": "code",
     "collapsed": false,
     "input": [
      "import os.path\n",
      "s=\"dir1/dir2/dir3/file.test.vcf\"\n",
      "print(os.path.basename(s).split(\".vcf\")[0])\n",
      "print(\"h\")\n",
      "print(s)\n",
      "print(s.split('.vcf')[0])\n",
      "print(s.split('/')[-1])\n",
      "a= s.split('vcf')[0].split('/')[-1].strip('.')\n",
      "print(a)\n",
      "print(a + \".vcf\")"
     ],
     "language": "python",
     "metadata": {},
     "outputs": [
      {
       "output_type": "stream",
       "stream": "stdout",
       "text": [
        "file.test\n",
        "h\n",
        "dir1/dir2/dir3/file.test.vcf\n",
        "dir1/dir2/dir3/file.test\n",
        "file.test.vcf\n",
        "file.test\n",
        "file.test.vcf\n"
       ]
      }
     ],
     "prompt_number": 12
    },
    {
     "cell_type": "code",
     "collapsed": false,
     "input": [],
     "language": "python",
     "metadata": {},
     "outputs": []
    }
   ],
   "metadata": {}
  }
 ]
}