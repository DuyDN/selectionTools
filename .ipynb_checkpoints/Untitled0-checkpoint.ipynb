{
 "metadata": {
  "name": "",
  "signature": "sha256:095149268d514ae57db8a66c354c03bcbd25f2149f41a805949974951be90dff"
 },
 "nbformat": 3,
 "nbformat_minor": 0,
 "worksheets": []
}